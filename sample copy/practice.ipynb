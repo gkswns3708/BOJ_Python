{
 "cells": [
  {
   "cell_type": "code",
   "execution_count": 30,
   "metadata": {},
   "outputs": [
    {
     "name": "stdout",
     "output_type": "stream",
     "text": [
      "10:20:01\n",
      "10:20:02\n",
      "10:20:03\n",
      "10:20:04\n",
      "10:20:05\n"
     ]
    }
   ],
   "source": [
    "from typing import Iterable\n",
    "\n",
    "def parse1() -> Iterable[str]:\n",
    "    with open('access.log', 'r') as f:\n",
    "        for line in f:\n",
    "            yield line.split()[1]\n",
    "            \n",
    "\n",
    "        \n",
    "for i in parse1():\n",
    "    print(i)"
   ]
  },
  {
   "cell_type": "code",
   "execution_count": 31,
   "metadata": {},
   "outputs": [
    {
     "name": "stdout",
     "output_type": "stream",
     "text": [
      "10:20:01\n",
      "10:20:02\n",
      "10:20:03\n",
      "10:20:04\n",
      "10:20:05\n"
     ]
    }
   ],
   "source": [
    "import re\n",
    "def parse2() -> Iterable[str]:\n",
    "    with open('access.log', 'r') as f:\n",
    "        for line in f:\n",
    "            yield from re.findall(r'\\d{2}:\\d{2}:\\d{2}', line)[:1]\n",
    "            \n",
    "for i in parse2():\n",
    "    print(i)"
   ]
  },
  {
   "cell_type": "code",
   "execution_count": 33,
   "metadata": {},
   "outputs": [
    {
     "ename": "IndexError",
     "evalue": "list index out of range",
     "output_type": "error",
     "traceback": [
      "\u001b[0;31m---------------------------------------------------------------------------\u001b[0m",
      "\u001b[0;31mIndexError\u001b[0m                                Traceback (most recent call last)",
      "\u001b[1;32m/Users/choihanjun/Python/BOJ_Python/sample copy/practice.ipynb 셀 3\u001b[0m in \u001b[0;36m6\n\u001b[1;32m      <a href='vscode-notebook-cell:/Users/choihanjun/Python/BOJ_Python/sample%20copy/practice.ipynb#W2sZmlsZQ%3D%3D?line=2'>3</a>\u001b[0m         \u001b[39mfor\u001b[39;00m line \u001b[39min\u001b[39;00m f:\n\u001b[1;32m      <a href='vscode-notebook-cell:/Users/choihanjun/Python/BOJ_Python/sample%20copy/practice.ipynb#W2sZmlsZQ%3D%3D?line=3'>4</a>\u001b[0m             \u001b[39myield from\u001b[39;00m re\u001b[39m.\u001b[39mfindall(\u001b[39mr\u001b[39m\u001b[39m'\u001b[39m\u001b[39m\\\u001b[39m\u001b[39md:\u001b[39m\u001b[39m\\\u001b[39m\u001b[39md:\u001b[39m\u001b[39m\\\u001b[39m\u001b[39md\u001b[39m\u001b[39m'\u001b[39m, line)[\u001b[39m0\u001b[39m]\n\u001b[0;32m----> <a href='vscode-notebook-cell:/Users/choihanjun/Python/BOJ_Python/sample%20copy/practice.ipynb#W2sZmlsZQ%3D%3D?line=5'>6</a>\u001b[0m \u001b[39mfor\u001b[39;00m i \u001b[39min\u001b[39;00m parse3():\n\u001b[1;32m      <a href='vscode-notebook-cell:/Users/choihanjun/Python/BOJ_Python/sample%20copy/practice.ipynb#W2sZmlsZQ%3D%3D?line=6'>7</a>\u001b[0m     \u001b[39mprint\u001b[39m(i)\n",
      "\u001b[1;32m/Users/choihanjun/Python/BOJ_Python/sample copy/practice.ipynb 셀 3\u001b[0m in \u001b[0;36m4\n\u001b[1;32m      <a href='vscode-notebook-cell:/Users/choihanjun/Python/BOJ_Python/sample%20copy/practice.ipynb#W2sZmlsZQ%3D%3D?line=1'>2</a>\u001b[0m \u001b[39mwith\u001b[39;00m \u001b[39mopen\u001b[39m(\u001b[39m'\u001b[39m\u001b[39maccess.log\u001b[39m\u001b[39m'\u001b[39m, \u001b[39m'\u001b[39m\u001b[39mr\u001b[39m\u001b[39m'\u001b[39m) \u001b[39mas\u001b[39;00m f:\n\u001b[1;32m      <a href='vscode-notebook-cell:/Users/choihanjun/Python/BOJ_Python/sample%20copy/practice.ipynb#W2sZmlsZQ%3D%3D?line=2'>3</a>\u001b[0m     \u001b[39mfor\u001b[39;00m line \u001b[39min\u001b[39;00m f:\n\u001b[0;32m----> <a href='vscode-notebook-cell:/Users/choihanjun/Python/BOJ_Python/sample%20copy/practice.ipynb#W2sZmlsZQ%3D%3D?line=3'>4</a>\u001b[0m         \u001b[39myield from\u001b[39;00m re\u001b[39m.\u001b[39;49mfindall(\u001b[39mr\u001b[39;49m\u001b[39m'\u001b[39;49m\u001b[39m\\\u001b[39;49m\u001b[39md:\u001b[39;49m\u001b[39m\\\u001b[39;49m\u001b[39md:\u001b[39;49m\u001b[39m\\\u001b[39;49m\u001b[39md\u001b[39;49m\u001b[39m'\u001b[39;49m, line)[\u001b[39m0\u001b[39;49m]\n",
      "\u001b[0;31mIndexError\u001b[0m: list index out of range"
     ]
    }
   ],
   "source": [
    "def parse3() -> Iterable[str]:\n",
    "    with open('access.log', 'r') as f:\n",
    "        for line in f:\n",
    "            yield from re.findall(r'\\d:\\d:\\d', line)[0]\n",
    "            \n",
    "for i in parse3():\n",
    "    print(i)"
   ]
  },
  {
   "cell_type": "code",
   "execution_count": null,
   "metadata": {},
   "outputs": [],
   "source": [
    "def parse3() -> Iterable[str]:\n",
    "    with open('access.log', 'r') as f:\n",
    "        for line in f:\n",
    "            yield from re.findall(r'\\d:\\d:\\d', line)[0]\n",
    "            \n",
    "for i in parse3():\n",
    "    print(i)"
   ]
  }
 ],
 "metadata": {
  "kernelspec": {
   "display_name": "Python 3",
   "language": "python",
   "name": "python3"
  },
  "language_info": {
   "codemirror_mode": {
    "name": "ipython",
    "version": 3
   },
   "file_extension": ".py",
   "mimetype": "text/x-python",
   "name": "python",
   "nbconvert_exporter": "python",
   "pygments_lexer": "ipython3",
   "version": "3.9.6"
  },
  "orig_nbformat": 4
 },
 "nbformat": 4,
 "nbformat_minor": 2
}
